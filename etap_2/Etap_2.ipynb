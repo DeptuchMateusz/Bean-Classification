{
 "cells": [
  {
   "cell_type": "markdown",
   "metadata": {},
   "source": [
    "# Etap 2"
   ]
  },
  {
   "cell_type": "code",
   "execution_count": 10,
   "metadata": {},
   "outputs": [],
   "source": [
    "import pandas as pd\n",
    "import numpy as np\n",
    "import sklearn \n",
    "import seaborn as sns\n",
    "import matplotlib.pyplot as plt\n",
    "import warnings\n",
    "\n",
    "from sklearn.model_selection import train_test_split\n",
    "from sklearn.preprocessing import OneHotEncoder\n",
    "from sklearn.neural_network import MLPClassifier\n",
    "from sklearn.metrics import confusion_matrix\n",
    "\n",
    "from sklearn.ensemble import RandomForestClassifier\n"
   ]
  },
  {
   "cell_type": "code",
   "execution_count": 21,
   "metadata": {},
   "outputs": [],
   "source": [
    "data = pd.read_csv('../Data/our_data.csv')"
   ]
  },
  {
   "cell_type": "code",
   "execution_count": 60,
   "metadata": {},
   "outputs": [],
   "source": [
    "X = data.drop('Class', axis=1)\n",
    "y = data['Class']\n",
    "\n",
    "X_train, X_val, y_train, y_val = train_test_split(\n",
    "    X, y, stratify=y, test_size=0.3, random_state=42\n",
    ")\n",
    "X_val, X_test, y_val, y_test = train_test_split(\n",
    "    X_val, y_val, stratify=y_val, test_size=0.3, random_state=42\n",
    ")"
   ]
  },
  {
   "cell_type": "markdown",
   "metadata": {},
   "source": [
    "# ENCODING"
   ]
  },
  {
   "cell_type": "code",
   "execution_count": 61,
   "metadata": {},
   "outputs": [
    {
     "name": "stderr",
     "output_type": "stream",
     "text": [
      "/Users/mateuszdeptuch/opt/anaconda3/lib/python3.9/site-packages/sklearn/utils/deprecation.py:87: FutureWarning: Function get_feature_names is deprecated; get_feature_names is deprecated in 1.0 and will be removed in 1.2. Please use get_feature_names_out instead.\n",
      "  warnings.warn(msg, category=FutureWarning)\n",
      "/Users/mateuszdeptuch/opt/anaconda3/lib/python3.9/site-packages/sklearn/utils/deprecation.py:87: FutureWarning: Function get_feature_names is deprecated; get_feature_names is deprecated in 1.0 and will be removed in 1.2. Please use get_feature_names_out instead.\n",
      "  warnings.warn(msg, category=FutureWarning)\n",
      "/Users/mateuszdeptuch/opt/anaconda3/lib/python3.9/site-packages/sklearn/utils/deprecation.py:87: FutureWarning: Function get_feature_names is deprecated; get_feature_names is deprecated in 1.0 and will be removed in 1.2. Please use get_feature_names_out instead.\n",
      "  warnings.warn(msg, category=FutureWarning)\n"
     ]
    }
   ],
   "source": [
    "enc = OneHotEncoder(handle_unknown='ignore')\n",
    "enc.fit(y_train.to_frame())\n",
    "y_encoded = pd.DataFrame(enc.transform(y_train.to_frame()).toarray(),columns=enc.get_feature_names(['Class']))\n",
    "y_val_encoded = pd.DataFrame(enc.transform(y_val.to_frame()).toarray(),columns=enc.get_feature_names(['Class']))\n",
    "y_test_encoded = pd.DataFrame(enc.transform(y_test.to_frame()).toarray(),columns=enc.get_feature_names(['Class']))\n"
   ]
  },
  {
   "cell_type": "markdown",
   "metadata": {},
   "source": [
    "## Usuwanie kolumn"
   ]
  },
  {
   "cell_type": "code",
   "execution_count": 62,
   "metadata": {},
   "outputs": [
    {
     "data": {
      "text/html": [
       "<div>\n",
       "<style scoped>\n",
       "    .dataframe tbody tr th:only-of-type {\n",
       "        vertical-align: middle;\n",
       "    }\n",
       "\n",
       "    .dataframe tbody tr th {\n",
       "        vertical-align: top;\n",
       "    }\n",
       "\n",
       "    .dataframe thead th {\n",
       "        text-align: right;\n",
       "    }\n",
       "</style>\n",
       "<table border=\"1\" class=\"dataframe\">\n",
       "  <thead>\n",
       "    <tr style=\"text-align: right;\">\n",
       "      <th></th>\n",
       "      <th>Area</th>\n",
       "      <th>Perimeter</th>\n",
       "      <th>MajorAxisLength</th>\n",
       "      <th>MinorAxisLength</th>\n",
       "      <th>AspectRation</th>\n",
       "      <th>Eccentricity</th>\n",
       "      <th>Extent</th>\n",
       "      <th>Solidity</th>\n",
       "      <th>roundness</th>\n",
       "      <th>ShapeFactor1</th>\n",
       "      <th>ShapeFactor2</th>\n",
       "      <th>ShapeFactor3</th>\n",
       "      <th>ShapeFactor4</th>\n",
       "    </tr>\n",
       "  </thead>\n",
       "  <tbody>\n",
       "    <tr>\n",
       "      <th>4990</th>\n",
       "      <td>35815</td>\n",
       "      <td>713.667</td>\n",
       "      <td>269.737175</td>\n",
       "      <td>169.911449</td>\n",
       "      <td>1.587516</td>\n",
       "      <td>0.776664</td>\n",
       "      <td>0.726972</td>\n",
       "      <td>0.988655</td>\n",
       "      <td>0.883657</td>\n",
       "      <td>0.007531</td>\n",
       "      <td>0.001825</td>\n",
       "      <td>0.626749</td>\n",
       "      <td>0.994974</td>\n",
       "    </tr>\n",
       "    <tr>\n",
       "      <th>3361</th>\n",
       "      <td>37430</td>\n",
       "      <td>699.619</td>\n",
       "      <td>245.261315</td>\n",
       "      <td>194.850379</td>\n",
       "      <td>1.258716</td>\n",
       "      <td>0.607316</td>\n",
       "      <td>0.736898</td>\n",
       "      <td>0.991733</td>\n",
       "      <td>0.960963</td>\n",
       "      <td>0.006553</td>\n",
       "      <td>0.002537</td>\n",
       "      <td>0.792268</td>\n",
       "      <td>0.997240</td>\n",
       "    </tr>\n",
       "    <tr>\n",
       "      <th>10806</th>\n",
       "      <td>27915</td>\n",
       "      <td>622.004</td>\n",
       "      <td>234.701977</td>\n",
       "      <td>151.590536</td>\n",
       "      <td>1.548263</td>\n",
       "      <td>0.763435</td>\n",
       "      <td>0.701823</td>\n",
       "      <td>0.989578</td>\n",
       "      <td>0.906695</td>\n",
       "      <td>0.008408</td>\n",
       "      <td>0.002159</td>\n",
       "      <td>0.645230</td>\n",
       "      <td>0.998985</td>\n",
       "    </tr>\n",
       "    <tr>\n",
       "      <th>9320</th>\n",
       "      <td>56606</td>\n",
       "      <td>933.430</td>\n",
       "      <td>372.871747</td>\n",
       "      <td>193.926138</td>\n",
       "      <td>1.922751</td>\n",
       "      <td>0.854113</td>\n",
       "      <td>0.729318</td>\n",
       "      <td>0.987509</td>\n",
       "      <td>0.816411</td>\n",
       "      <td>0.006587</td>\n",
       "      <td>0.001092</td>\n",
       "      <td>0.518386</td>\n",
       "      <td>0.996728</td>\n",
       "    </tr>\n",
       "    <tr>\n",
       "      <th>6645</th>\n",
       "      <td>61336</td>\n",
       "      <td>986.354</td>\n",
       "      <td>381.651865</td>\n",
       "      <td>206.700620</td>\n",
       "      <td>1.846399</td>\n",
       "      <td>0.840640</td>\n",
       "      <td>0.647708</td>\n",
       "      <td>0.983201</td>\n",
       "      <td>0.792245</td>\n",
       "      <td>0.006222</td>\n",
       "      <td>0.001103</td>\n",
       "      <td>0.536156</td>\n",
       "      <td>0.989957</td>\n",
       "    </tr>\n",
       "    <tr>\n",
       "      <th>...</th>\n",
       "      <td>...</td>\n",
       "      <td>...</td>\n",
       "      <td>...</td>\n",
       "      <td>...</td>\n",
       "      <td>...</td>\n",
       "      <td>...</td>\n",
       "      <td>...</td>\n",
       "      <td>...</td>\n",
       "      <td>...</td>\n",
       "      <td>...</td>\n",
       "      <td>...</td>\n",
       "      <td>...</td>\n",
       "      <td>...</td>\n",
       "    </tr>\n",
       "    <tr>\n",
       "      <th>2219</th>\n",
       "      <td>44318</td>\n",
       "      <td>800.556</td>\n",
       "      <td>302.124686</td>\n",
       "      <td>187.628402</td>\n",
       "      <td>1.610229</td>\n",
       "      <td>0.783787</td>\n",
       "      <td>0.690247</td>\n",
       "      <td>0.988270</td>\n",
       "      <td>0.868974</td>\n",
       "      <td>0.006817</td>\n",
       "      <td>0.001607</td>\n",
       "      <td>0.618184</td>\n",
       "      <td>0.995418</td>\n",
       "    </tr>\n",
       "    <tr>\n",
       "      <th>758</th>\n",
       "      <td>32015</td>\n",
       "      <td>653.676</td>\n",
       "      <td>212.929989</td>\n",
       "      <td>191.810135</td>\n",
       "      <td>1.110108</td>\n",
       "      <td>0.434207</td>\n",
       "      <td>0.761881</td>\n",
       "      <td>0.988880</td>\n",
       "      <td>0.941539</td>\n",
       "      <td>0.006651</td>\n",
       "      <td>0.003316</td>\n",
       "      <td>0.899063</td>\n",
       "      <td>0.998057</td>\n",
       "    </tr>\n",
       "    <tr>\n",
       "      <th>7089</th>\n",
       "      <td>84154</td>\n",
       "      <td>1169.542</td>\n",
       "      <td>416.682290</td>\n",
       "      <td>258.039787</td>\n",
       "      <td>1.614799</td>\n",
       "      <td>0.785176</td>\n",
       "      <td>0.757482</td>\n",
       "      <td>0.984338</td>\n",
       "      <td>0.773131</td>\n",
       "      <td>0.004951</td>\n",
       "      <td>0.001163</td>\n",
       "      <td>0.617127</td>\n",
       "      <td>0.996536</td>\n",
       "    </tr>\n",
       "    <tr>\n",
       "      <th>8185</th>\n",
       "      <td>33104</td>\n",
       "      <td>687.923</td>\n",
       "      <td>259.570383</td>\n",
       "      <td>162.678572</td>\n",
       "      <td>1.595603</td>\n",
       "      <td>0.779243</td>\n",
       "      <td>0.745132</td>\n",
       "      <td>0.985561</td>\n",
       "      <td>0.879044</td>\n",
       "      <td>0.007841</td>\n",
       "      <td>0.001893</td>\n",
       "      <td>0.625576</td>\n",
       "      <td>0.998171</td>\n",
       "    </tr>\n",
       "    <tr>\n",
       "      <th>9694</th>\n",
       "      <td>38945</td>\n",
       "      <td>733.509</td>\n",
       "      <td>269.092946</td>\n",
       "      <td>185.051959</td>\n",
       "      <td>1.454148</td>\n",
       "      <td>0.726006</td>\n",
       "      <td>0.735728</td>\n",
       "      <td>0.987174</td>\n",
       "      <td>0.909600</td>\n",
       "      <td>0.006910</td>\n",
       "      <td>0.001999</td>\n",
       "      <td>0.684790</td>\n",
       "      <td>0.995786</td>\n",
       "    </tr>\n",
       "  </tbody>\n",
       "</table>\n",
       "<p>7621 rows × 13 columns</p>\n",
       "</div>"
      ],
      "text/plain": [
       "        Area  Perimeter  MajorAxisLength  MinorAxisLength  AspectRation  \\\n",
       "4990   35815    713.667       269.737175       169.911449      1.587516   \n",
       "3361   37430    699.619       245.261315       194.850379      1.258716   \n",
       "10806  27915    622.004       234.701977       151.590536      1.548263   \n",
       "9320   56606    933.430       372.871747       193.926138      1.922751   \n",
       "6645   61336    986.354       381.651865       206.700620      1.846399   \n",
       "...      ...        ...              ...              ...           ...   \n",
       "2219   44318    800.556       302.124686       187.628402      1.610229   \n",
       "758    32015    653.676       212.929989       191.810135      1.110108   \n",
       "7089   84154   1169.542       416.682290       258.039787      1.614799   \n",
       "8185   33104    687.923       259.570383       162.678572      1.595603   \n",
       "9694   38945    733.509       269.092946       185.051959      1.454148   \n",
       "\n",
       "       Eccentricity    Extent  Solidity  roundness  ShapeFactor1  \\\n",
       "4990       0.776664  0.726972  0.988655   0.883657      0.007531   \n",
       "3361       0.607316  0.736898  0.991733   0.960963      0.006553   \n",
       "10806      0.763435  0.701823  0.989578   0.906695      0.008408   \n",
       "9320       0.854113  0.729318  0.987509   0.816411      0.006587   \n",
       "6645       0.840640  0.647708  0.983201   0.792245      0.006222   \n",
       "...             ...       ...       ...        ...           ...   \n",
       "2219       0.783787  0.690247  0.988270   0.868974      0.006817   \n",
       "758        0.434207  0.761881  0.988880   0.941539      0.006651   \n",
       "7089       0.785176  0.757482  0.984338   0.773131      0.004951   \n",
       "8185       0.779243  0.745132  0.985561   0.879044      0.007841   \n",
       "9694       0.726006  0.735728  0.987174   0.909600      0.006910   \n",
       "\n",
       "       ShapeFactor2  ShapeFactor3  ShapeFactor4  \n",
       "4990       0.001825      0.626749      0.994974  \n",
       "3361       0.002537      0.792268      0.997240  \n",
       "10806      0.002159      0.645230      0.998985  \n",
       "9320       0.001092      0.518386      0.996728  \n",
       "6645       0.001103      0.536156      0.989957  \n",
       "...             ...           ...           ...  \n",
       "2219       0.001607      0.618184      0.995418  \n",
       "758        0.003316      0.899063      0.998057  \n",
       "7089       0.001163      0.617127      0.996536  \n",
       "8185       0.001893      0.625576      0.998171  \n",
       "9694       0.001999      0.684790      0.995786  \n",
       "\n",
       "[7621 rows x 13 columns]"
      ]
     },
     "execution_count": 62,
     "metadata": {},
     "output_type": "execute_result"
    }
   ],
   "source": [
    "# delete columns: ShapeFactor2,ShapeFactor4, Solidity, Extent \n",
    "X_train = X_train.drop(['Compactness','EquivDiameter', 'ConvexArea'], axis=1)\n",
    "X_val = X_val.drop(['Compactness','EquivDiameter','ConvexArea'], axis=1)\n",
    "X_test = X_test.drop(['Compactness','EquivDiameter','ConvexArea'], axis=1)\n",
    "X_train\n"
   ]
  },
  {
   "cell_type": "code",
   "execution_count": null,
   "metadata": {},
   "outputs": [],
   "source": []
  },
  {
   "cell_type": "markdown",
   "metadata": {},
   "source": [
    "## Normalizacja"
   ]
  },
  {
   "cell_type": "code",
   "execution_count": 33,
   "metadata": {},
   "outputs": [
    {
     "data": {
      "text/plain": [
       "array([[0.06573554, 0.12934863, 0.15512763, ..., 0.42787912, 0.66382829,\n",
       "        0.37661018],\n",
       "       [0.07263147, 0.11973088, 0.11104755, ..., 0.71570976, 0.52472281,\n",
       "        0.67309654],\n",
       "       [0.03200311, 0.066593  , 0.09203059, ..., 0.4617662 , 0.78836283,\n",
       "        0.40971407],\n",
       "       ...,\n",
       "       [0.27213958, 0.44145624, 0.41977011, ..., 0.4100392 , 0.29719209,\n",
       "        0.35937584],\n",
       "       [0.05415976, 0.1117234 , 0.13681763, ..., 0.42571264, 0.707833  ,\n",
       "        0.37451014],\n",
       "       [0.07910041, 0.14293314, 0.1539674 , ..., 0.53271051, 0.57545976,\n",
       "        0.48057632]])"
      ]
     },
     "execution_count": 33,
     "metadata": {},
     "output_type": "execute_result"
    }
   ],
   "source": [
    "from sklearn.preprocessing import MinMaxScaler\n",
    "scaling = MinMaxScaler()\n",
    "X_train = scaling.fit_transform(X_train)\n",
    "X_test = scaling.transform(X_test)\n",
    "X_val = scaling.transform(X_val)"
   ]
  },
  {
   "cell_type": "markdown",
   "metadata": {},
   "source": [
    "## Feature importance"
   ]
  },
  {
   "cell_type": "code",
   "execution_count": 63,
   "metadata": {},
   "outputs": [
    {
     "name": "stdout",
     "output_type": "stream",
     "text": [
      "Ranking cech: \n",
      "Cecha MinorAxisLength (0.12615890157936022)\n",
      "Cecha ShapeFactor1 (0.11442374111145348)\n",
      "Cecha Perimeter (0.10394894158777068)\n",
      "Cecha MajorAxisLength (0.09956325874365198)\n",
      "Cecha ShapeFactor3 (0.09879126020664408)\n",
      "Cecha Eccentricity (0.09656949284669879)\n",
      "Cecha Area (0.09584664029436968)\n",
      "Cecha AspectRation (0.08774366627774427)\n",
      "Cecha ShapeFactor2 (0.06306038595503966)\n",
      "Cecha roundness (0.05709862437707408)\n",
      "Cecha ShapeFactor4 (0.03291219233573339)\n",
      "Cecha Solidity (0.015850396966212432)\n",
      "Cecha Extent (0.008032497718247418)\n"
     ]
    },
    {
     "data": {
      "image/png": "[encoded data removed]",
      "text/plain": [
       "<Figure size 1152x720 with 1 Axes>"
      ]
     },
     "metadata": {
      "needs_background": "light"
     },
     "output_type": "display_data"
    }
   ],
   "source": [
    "clf = RandomForestClassifier(n_estimators=100, max_depth=10, random_state=42)\n",
    "clf.fit(X_train, y_train)\n",
    "\n",
    "feature_importances = clf.feature_importances_\n",
    "std = np.std([tree.feature_importances_ for tree in clf.estimators_], axis=0)\n",
    "indices = np.argsort(feature_importances)[::-1]\n",
    "\n",
    "\n",
    "\n",
    "print(\"Ranking cech: \")\n",
    "for i in range(X_train.shape[1]):\n",
    "    print(f\"Cecha {X_train.columns[indices[i]]} ({feature_importances[indices[i]]})\")\n",
    "\n",
    "plt.figure(figsize=(16,10))\n",
    "plt.title(\"Feature importances\")\n",
    "plt.bar(range(X_train.shape[1]), feature_importances[indices],\n",
    "        color=\"r\", yerr=std[indices], align=\"center\")\n",
    "plt.xticks(range(X_train.shape[1]), [X_train.columns[i] for i in indices])\n",
    "plt.xlim([-1, X_train.shape[1]])\n",
    "plt.show()"
   ]
  },
  {
   "cell_type": "code",
   "execution_count": 64,
   "metadata": {},
   "outputs": [],
   "source": [
    "#delete Extent and Solidity\n",
    "X_train = X_train.drop(['Extent','Solidity'], axis=1)\n",
    "X_val = X_val.drop(['Extent','Solidity'], axis=1)\n",
    "X_test = X_test.drop(['Extent','Solidity'], axis=1)"
   ]
  },
  {
   "cell_type": "markdown",
   "metadata": {},
   "source": [
    "# kodzenie"
   ]
  },
  {
   "cell_type": "code",
   "execution_count": 65,
   "metadata": {},
   "outputs": [],
   "source": [
    "#tu encodowane dane dają błąd \n",
    "from sklearn.svm import SVC\n",
    "svm = SVC(kernel='linear', C=1, random_state=42, decision_function_shape='ovo').fit(X_train, y_train)\n",
    "print(\"SVM accuracy: {:.2f}\".format(svm.score(X_val, y_val)))\n",
    "print(\"SVM f1 score: {:.2f}\".format(sklearn.metrics.f1_score(y_val, svm.predict(X_val), average='weighted')))\n",
    "#uwaga na zmiane parametrow bo moze sie robic kilka dni"
   ]
  },
  {
   "cell_type": "markdown",
   "metadata": {},
   "source": [
    "SVM accuracy: 0.92\n",
    "SVM f1 score: 0.92"
   ]
  },
  {
   "cell_type": "code",
   "execution_count": 44,
   "metadata": {},
   "outputs": [
    {
     "name": "stdout",
     "output_type": "stream",
     "text": [
      "Tree accuracy: 0.89\n",
      "Tree f1 score: 0.89\n"
     ]
    }
   ],
   "source": [
    "#tree\n",
    "from sklearn.tree import DecisionTreeClassifier\n",
    "tree = DecisionTreeClassifier(max_depth=10000, random_state=42)\n",
    "tree.fit(X_train, y_encoded)\n",
    "y_hat = tree.predict(X_val)\n",
    "print(\"Tree accuracy: {:.2f}\".format(tree.score(X_val, y_val_encoded)))\n",
    "print(\"Tree f1 score: {:.2f}\".format(sklearn.metrics.f1_score(y_val_encoded, y_hat, average='weighted')))"
   ]
  },
  {
   "cell_type": "markdown",
   "metadata": {},
   "source": [
    "Tree accuracy: 0.89  \n",
    "Tree f1 score: 0.89"
   ]
  },
  {
   "cell_type": "code",
   "execution_count": 45,
   "metadata": {},
   "outputs": [
    {
     "name": "stdout",
     "output_type": "stream",
     "text": [
      "Tree accuracy: 0.89\n",
      "Tree f1 score: 0.89\n"
     ]
    }
   ],
   "source": [
    "from sklearn.tree import DecisionTreeClassifier\n",
    "tree = DecisionTreeClassifier(max_depth=10000, random_state=42, criterion='entropy')\n",
    "tree.fit(X_train, y_encoded)\n",
    "y_hat = tree.predict(X_val)\n",
    "print(\"Tree accuracy: {:.2f}\".format(tree.score(X_val, y_val_encoded)))\n",
    "print(\"Tree f1 score: {:.2f}\".format(sklearn.metrics.f1_score(y_val_encoded, y_hat, average='weighted')))"
   ]
  },
  {
   "cell_type": "code",
   "execution_count": 50,
   "metadata": {},
   "outputs": [
    {
     "name": "stdout",
     "output_type": "stream",
     "text": [
      "Forest accuracy: 0.90\n"
     ]
    }
   ],
   "source": [
    "#random forest\n",
    "from sklearn.ensemble import RandomForestClassifier\n",
    "forest = RandomForestClassifier(n_estimators=100, random_state=42)\n",
    "forest.fit(X_train, y_encoded)\n",
    "y_hat = forest.predict(X_val)\n",
    "print(\"Forest accuracy: {:.2f}\".format(forest.score(X_val, y_val_encoded)))"
   ]
  }
 ],
 "metadata": {
  "kernelspec": {
   "display_name": "base",
   "language": "python",
   "name": "python3"
  },
  "language_info": {
   "codemirror_mode": {
    "name": "ipython",
    "version": 3
   },
   "file_extension": ".py",
   "mimetype": "text/x-python",
   "name": "python",
   "nbconvert_exporter": "python",
   "pygments_lexer": "ipython3",
   "version": "3.9.12"
  }
 },
 "nbformat": 4,
 "nbformat_minor": 2
}
