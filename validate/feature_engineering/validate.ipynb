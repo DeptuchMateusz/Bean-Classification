{
 "cells": [
  {
   "cell_type": "code",
   "execution_count": 15,
   "id": "initial_id",
   "metadata": {
    "collapsed": true,
    "ExecuteTime": {
     "end_time": "2024-03-23T17:58:44.133602Z",
     "start_time": "2024-03-23T17:58:44.114873Z"
    }
   },
   "outputs": [
    {
     "data": {
      "text/plain": "    Area  Perimeter  MajorAxisLength  MinorAxisLength  AspectRation  \\\n0  42339    741.226       260.199330       207.306394      1.255144   \n1  68247   1088.754       370.368146       237.863792      1.557060   \n2  37856    708.716       248.430330       194.360324      1.278195   \n3  33143    648.385       222.526309       189.737379      1.172812   \n4  29925    647.570       237.714031       161.004849      1.476440   \n\n   Eccentricity  ConvexArea  EquivDiameter    Extent  Solidity  roundness  \\\n0      0.604347       42676     232.180294  0.771202  0.992103   0.968387   \n1      0.766507       70172     294.779204  0.767683  0.972567   0.723492   \n2      0.622835       38232     219.544429  0.744640  0.990165   0.947109   \n3      0.522480       33377     205.423899  0.769980  0.992989   0.990685   \n4      0.735703       30321     195.196551  0.785309  0.986940   0.896748   \n\n   Compactness  ShapeFactor1  ShapeFactor2  ShapeFactor3  ShapeFactor4  \\\n0     0.892317      0.006146      0.002403      0.796230      0.999383   \n1     0.795909      0.005427      0.001343      0.633471      0.986352   \n2     0.883726      0.006563      0.002469      0.780972      0.998235   \n3     0.923144      0.006714      0.003008      0.852195      0.999465   \n4     0.821140      0.007944      0.002228      0.674271      0.995521   \n\n      Class  \n0     SEKER  \n1  BARBUNYA  \n2     SEKER  \n3     SEKER  \n4  DERMASON  ",
      "text/html": "<div>\n<style scoped>\n    .dataframe tbody tr th:only-of-type {\n        vertical-align: middle;\n    }\n\n    .dataframe tbody tr th {\n        vertical-align: top;\n    }\n\n    .dataframe thead th {\n        text-align: right;\n    }\n</style>\n<table border=\"1\" class=\"dataframe\">\n  <thead>\n    <tr style=\"text-align: right;\">\n      <th></th>\n      <th>Area</th>\n      <th>Perimeter</th>\n      <th>MajorAxisLength</th>\n      <th>MinorAxisLength</th>\n      <th>AspectRation</th>\n      <th>Eccentricity</th>\n      <th>ConvexArea</th>\n      <th>EquivDiameter</th>\n      <th>Extent</th>\n      <th>Solidity</th>\n      <th>roundness</th>\n      <th>Compactness</th>\n      <th>ShapeFactor1</th>\n      <th>ShapeFactor2</th>\n      <th>ShapeFactor3</th>\n      <th>ShapeFactor4</th>\n      <th>Class</th>\n    </tr>\n  </thead>\n  <tbody>\n    <tr>\n      <th>0</th>\n      <td>42339</td>\n      <td>741.226</td>\n      <td>260.199330</td>\n      <td>207.306394</td>\n      <td>1.255144</td>\n      <td>0.604347</td>\n      <td>42676</td>\n      <td>232.180294</td>\n      <td>0.771202</td>\n      <td>0.992103</td>\n      <td>0.968387</td>\n      <td>0.892317</td>\n      <td>0.006146</td>\n      <td>0.002403</td>\n      <td>0.796230</td>\n      <td>0.999383</td>\n      <td>SEKER</td>\n    </tr>\n    <tr>\n      <th>1</th>\n      <td>68247</td>\n      <td>1088.754</td>\n      <td>370.368146</td>\n      <td>237.863792</td>\n      <td>1.557060</td>\n      <td>0.766507</td>\n      <td>70172</td>\n      <td>294.779204</td>\n      <td>0.767683</td>\n      <td>0.972567</td>\n      <td>0.723492</td>\n      <td>0.795909</td>\n      <td>0.005427</td>\n      <td>0.001343</td>\n      <td>0.633471</td>\n      <td>0.986352</td>\n      <td>BARBUNYA</td>\n    </tr>\n    <tr>\n      <th>2</th>\n      <td>37856</td>\n      <td>708.716</td>\n      <td>248.430330</td>\n      <td>194.360324</td>\n      <td>1.278195</td>\n      <td>0.622835</td>\n      <td>38232</td>\n      <td>219.544429</td>\n      <td>0.744640</td>\n      <td>0.990165</td>\n      <td>0.947109</td>\n      <td>0.883726</td>\n      <td>0.006563</td>\n      <td>0.002469</td>\n      <td>0.780972</td>\n      <td>0.998235</td>\n      <td>SEKER</td>\n    </tr>\n    <tr>\n      <th>3</th>\n      <td>33143</td>\n      <td>648.385</td>\n      <td>222.526309</td>\n      <td>189.737379</td>\n      <td>1.172812</td>\n      <td>0.522480</td>\n      <td>33377</td>\n      <td>205.423899</td>\n      <td>0.769980</td>\n      <td>0.992989</td>\n      <td>0.990685</td>\n      <td>0.923144</td>\n      <td>0.006714</td>\n      <td>0.003008</td>\n      <td>0.852195</td>\n      <td>0.999465</td>\n      <td>SEKER</td>\n    </tr>\n    <tr>\n      <th>4</th>\n      <td>29925</td>\n      <td>647.570</td>\n      <td>237.714031</td>\n      <td>161.004849</td>\n      <td>1.476440</td>\n      <td>0.735703</td>\n      <td>30321</td>\n      <td>195.196551</td>\n      <td>0.785309</td>\n      <td>0.986940</td>\n      <td>0.896748</td>\n      <td>0.821140</td>\n      <td>0.007944</td>\n      <td>0.002228</td>\n      <td>0.674271</td>\n      <td>0.995521</td>\n      <td>DERMASON</td>\n    </tr>\n  </tbody>\n</table>\n</div>"
     },
     "execution_count": 15,
     "metadata": {},
     "output_type": "execute_result"
    }
   ],
   "source": [
    "import pandas as pd\n",
    "import numpy as np\n",
    "import sklearn\n",
    "import seaborn as sns\n",
    "import matplotlib.pyplot as plt\n",
    "import warnings\n",
    "import plotly.express as px\n",
    "from sklearn.svm import SVC\n",
    "from sklearn.model_selection import train_test_split\n",
    "from sklearn.preprocessing import OneHotEncoder\n",
    "from sklearn.metrics import confusion_matrix\n",
    "from sklearn.preprocessing import MinMaxScaler\n",
    "from sklearn.ensemble import RandomForestClassifier\n",
    "from sklearn.metrics import classification_report\n",
    "from sklearn.metrics import accuracy_score\n",
    "from sklearn.metrics import precision_score, recall_score\n",
    "from sklearn.linear_model import LogisticRegression\n",
    "from sklearn.tree import DecisionTreeClassifier\n",
    "\n",
    "df_validators=pd.read_csv('../../Data/validator_data.csv')\n",
    "df_validators.head()"
   ]
  },
  {
   "cell_type": "code",
   "execution_count": 16,
   "outputs": [
    {
     "data": {
      "text/plain": "Index(['Area', 'Perimeter', 'MajorAxisLength', 'MinorAxisLength',\n       'AspectRation', 'Eccentricity', 'ConvexArea', 'EquivDiameter', 'Extent',\n       'Solidity', 'roundness', 'Compactness', 'ShapeFactor1', 'ShapeFactor2',\n       'ShapeFactor3', 'ShapeFactor4'],\n      dtype='object')"
     },
     "execution_count": 16,
     "metadata": {},
     "output_type": "execute_result"
    }
   ],
   "source": [
    "df_modellers=pd.read_csv('../../Data/our_data.csv')\n",
    "data=df_modellers\n",
    "X = data.drop('Class', axis=1)\n",
    "y = data['Class']\n",
    "\n",
    "X_train, X_val, y_train, y_val = train_test_split(\n",
    "    X, y, stratify=y, test_size=0.3, random_state=42\n",
    ")\n",
    "X_val, X_test, y_val, y_test = train_test_split(\n",
    "    X_val, y_val, stratify=y_val, test_size=0.3, random_state=42\n",
    ")\n",
    "\n",
    "X_validators = df_validators.drop('Class', axis=1)\n",
    "y_validators = df_validators['Class']\n",
    "\n",
    "cols = X.columns\n",
    "cols"
   ],
   "metadata": {
    "collapsed": false,
    "ExecuteTime": {
     "end_time": "2024-03-23T17:58:44.549760Z",
     "start_time": "2024-03-23T17:58:44.504758Z"
    }
   },
   "id": "2b6d3a9d19d08208"
  },
  {
   "cell_type": "code",
   "execution_count": 17,
   "outputs": [
    {
     "ename": "AttributeError",
     "evalue": "'OneHotEncoder' object has no attribute 'get_feature_names'",
     "output_type": "error",
     "traceback": [
      "\u001B[0;31m---------------------------------------------------------------------------\u001B[0m",
      "\u001B[0;31mAttributeError\u001B[0m                            Traceback (most recent call last)",
      "Cell \u001B[0;32mIn[17], line 14\u001B[0m\n\u001B[1;32m     12\u001B[0m enc \u001B[38;5;241m=\u001B[39m OneHotEncoder(handle_unknown\u001B[38;5;241m=\u001B[39m\u001B[38;5;124m'\u001B[39m\u001B[38;5;124mignore\u001B[39m\u001B[38;5;124m'\u001B[39m)\n\u001B[1;32m     13\u001B[0m enc\u001B[38;5;241m.\u001B[39mfit(y_train\u001B[38;5;241m.\u001B[39mto_frame())\n\u001B[0;32m---> 14\u001B[0m y_encoded \u001B[38;5;241m=\u001B[39m pd\u001B[38;5;241m.\u001B[39mDataFrame(enc\u001B[38;5;241m.\u001B[39mtransform(y_train\u001B[38;5;241m.\u001B[39mto_frame())\u001B[38;5;241m.\u001B[39mtoarray(),columns\u001B[38;5;241m=\u001B[39m\u001B[43menc\u001B[49m\u001B[38;5;241;43m.\u001B[39;49m\u001B[43mget_feature_names\u001B[49m([\u001B[38;5;124m'\u001B[39m\u001B[38;5;124mClass\u001B[39m\u001B[38;5;124m'\u001B[39m]))\n\u001B[1;32m     15\u001B[0m y_val_encoded \u001B[38;5;241m=\u001B[39m pd\u001B[38;5;241m.\u001B[39mDataFrame(enc\u001B[38;5;241m.\u001B[39mtransform(y_val\u001B[38;5;241m.\u001B[39mto_frame())\u001B[38;5;241m.\u001B[39mtoarray(),columns\u001B[38;5;241m=\u001B[39menc\u001B[38;5;241m.\u001B[39mget_feature_names([\u001B[38;5;124m'\u001B[39m\u001B[38;5;124mClass\u001B[39m\u001B[38;5;124m'\u001B[39m]))\n\u001B[1;32m     16\u001B[0m y_test_encoded \u001B[38;5;241m=\u001B[39m pd\u001B[38;5;241m.\u001B[39mDataFrame(enc\u001B[38;5;241m.\u001B[39mtransform(y_test\u001B[38;5;241m.\u001B[39mto_frame())\u001B[38;5;241m.\u001B[39mtoarray(),columns\u001B[38;5;241m=\u001B[39menc\u001B[38;5;241m.\u001B[39mget_feature_names([\u001B[38;5;124m'\u001B[39m\u001B[38;5;124mClass\u001B[39m\u001B[38;5;124m'\u001B[39m]))\n",
      "\u001B[0;31mAttributeError\u001B[0m: 'OneHotEncoder' object has no attribute 'get_feature_names'"
     ]
    }
   ],
   "source": [
    "scaling = MinMaxScaler()\n",
    "X_train = scaling.fit_transform(X_train)\n",
    "X_test = scaling.transform(X_test)\n",
    "X_val = scaling.transform(X_val)\n",
    "X_validators = scaling.transform(X_validators)\n",
    "\n",
    "X_train = pd.DataFrame(X_train, columns=cols)\n",
    "X_test = pd.DataFrame(X_test, columns=cols)\n",
    "X_val = pd.DataFrame(X_val, columns=cols)\n",
    "X_validators = pd.DataFrame(X_validators, columns=cols)\n",
    "\n",
    "enc = OneHotEncoder(handle_unknown='ignore')\n",
    "enc.fit(y_train.to_frame())\n",
    "y_encoded = pd.DataFrame(enc.transform(y_train.to_frame()).toarray(),columns=enc.get_feature_names(['Class']))\n",
    "y_val_encoded = pd.DataFrame(enc.transform(y_val.to_frame()).toarray(),columns=enc.get_feature_names(['Class']))\n",
    "y_test_encoded = pd.DataFrame(enc.transform(y_test.to_frame()).toarray(),columns=enc.get_feature_names(['Class']))\n",
    "y_validators_encoded = pd.DataFrame(enc.transform(y_validators.to_frame()).toarray(),columns=enc.get_feature_names(['Class']))\n",
    "y_encoded"
   ],
   "metadata": {
    "collapsed": false,
    "ExecuteTime": {
     "end_time": "2024-03-23T17:58:44.957578Z",
     "start_time": "2024-03-23T17:58:44.926967Z"
    }
   },
   "id": "ccfb78e2971c09f1"
  },
  {
   "cell_type": "markdown",
   "source": [
    "O boże jaki błąd\n",
    "![](img.png)\n",
    "nie jestem w stanie nic z tym zrobić\n",
    "PS. jednak jestem w stanie, inna wersja sklearna"
   ],
   "metadata": {
    "collapsed": false
   },
   "id": "abfe7a9ac2444cc9"
  },
  {
   "cell_type": "code",
   "execution_count": 18,
   "outputs": [
    {
     "data": {
      "text/plain": "      Class_BARBUNYA  Class_BOMBAY  Class_CALI  Class_DERMASON  Class_HOROZ  \\\n0                0.0           0.0         0.0             0.0          0.0   \n1                0.0           0.0         0.0             0.0          0.0   \n2                0.0           0.0         0.0             1.0          0.0   \n3                0.0           0.0         0.0             0.0          1.0   \n4                0.0           0.0         0.0             0.0          1.0   \n...              ...           ...         ...             ...          ...   \n7616             0.0           0.0         0.0             0.0          0.0   \n7617             0.0           0.0         0.0             0.0          0.0   \n7618             1.0           0.0         0.0             0.0          0.0   \n7619             0.0           0.0         0.0             1.0          0.0   \n7620             0.0           0.0         0.0             1.0          0.0   \n\n      Class_SEKER  Class_SIRA  \n0             0.0         1.0  \n1             1.0         0.0  \n2             0.0         0.0  \n3             0.0         0.0  \n4             0.0         0.0  \n...           ...         ...  \n7616          0.0         1.0  \n7617          1.0         0.0  \n7618          0.0         0.0  \n7619          0.0         0.0  \n7620          0.0         0.0  \n\n[7621 rows x 7 columns]",
      "text/html": "<div>\n<style scoped>\n    .dataframe tbody tr th:only-of-type {\n        vertical-align: middle;\n    }\n\n    .dataframe tbody tr th {\n        vertical-align: top;\n    }\n\n    .dataframe thead th {\n        text-align: right;\n    }\n</style>\n<table border=\"1\" class=\"dataframe\">\n  <thead>\n    <tr style=\"text-align: right;\">\n      <th></th>\n      <th>Class_BARBUNYA</th>\n      <th>Class_BOMBAY</th>\n      <th>Class_CALI</th>\n      <th>Class_DERMASON</th>\n      <th>Class_HOROZ</th>\n      <th>Class_SEKER</th>\n      <th>Class_SIRA</th>\n    </tr>\n  </thead>\n  <tbody>\n    <tr>\n      <th>0</th>\n      <td>0.0</td>\n      <td>0.0</td>\n      <td>0.0</td>\n      <td>0.0</td>\n      <td>0.0</td>\n      <td>0.0</td>\n      <td>1.0</td>\n    </tr>\n    <tr>\n      <th>1</th>\n      <td>0.0</td>\n      <td>0.0</td>\n      <td>0.0</td>\n      <td>0.0</td>\n      <td>0.0</td>\n      <td>1.0</td>\n      <td>0.0</td>\n    </tr>\n    <tr>\n      <th>2</th>\n      <td>0.0</td>\n      <td>0.0</td>\n      <td>0.0</td>\n      <td>1.0</td>\n      <td>0.0</td>\n      <td>0.0</td>\n      <td>0.0</td>\n    </tr>\n    <tr>\n      <th>3</th>\n      <td>0.0</td>\n      <td>0.0</td>\n      <td>0.0</td>\n      <td>0.0</td>\n      <td>1.0</td>\n      <td>0.0</td>\n      <td>0.0</td>\n    </tr>\n    <tr>\n      <th>4</th>\n      <td>0.0</td>\n      <td>0.0</td>\n      <td>0.0</td>\n      <td>0.0</td>\n      <td>1.0</td>\n      <td>0.0</td>\n      <td>0.0</td>\n    </tr>\n    <tr>\n      <th>...</th>\n      <td>...</td>\n      <td>...</td>\n      <td>...</td>\n      <td>...</td>\n      <td>...</td>\n      <td>...</td>\n      <td>...</td>\n    </tr>\n    <tr>\n      <th>7616</th>\n      <td>0.0</td>\n      <td>0.0</td>\n      <td>0.0</td>\n      <td>0.0</td>\n      <td>0.0</td>\n      <td>0.0</td>\n      <td>1.0</td>\n    </tr>\n    <tr>\n      <th>7617</th>\n      <td>0.0</td>\n      <td>0.0</td>\n      <td>0.0</td>\n      <td>0.0</td>\n      <td>0.0</td>\n      <td>1.0</td>\n      <td>0.0</td>\n    </tr>\n    <tr>\n      <th>7618</th>\n      <td>1.0</td>\n      <td>0.0</td>\n      <td>0.0</td>\n      <td>0.0</td>\n      <td>0.0</td>\n      <td>0.0</td>\n      <td>0.0</td>\n    </tr>\n    <tr>\n      <th>7619</th>\n      <td>0.0</td>\n      <td>0.0</td>\n      <td>0.0</td>\n      <td>1.0</td>\n      <td>0.0</td>\n      <td>0.0</td>\n      <td>0.0</td>\n    </tr>\n    <tr>\n      <th>7620</th>\n      <td>0.0</td>\n      <td>0.0</td>\n      <td>0.0</td>\n      <td>1.0</td>\n      <td>0.0</td>\n      <td>0.0</td>\n      <td>0.0</td>\n    </tr>\n  </tbody>\n</table>\n<p>7621 rows × 7 columns</p>\n</div>"
     },
     "execution_count": 18,
     "metadata": {},
     "output_type": "execute_result"
    }
   ],
   "source": [
    "scaling = MinMaxScaler()\n",
    "X_train = scaling.fit_transform(X_train)\n",
    "X_test = scaling.transform(X_test)\n",
    "X_val = scaling.transform(X_val)\n",
    "X_validators = scaling.transform(X_validators)\n",
    "\n",
    "X_train = pd.DataFrame(X_train, columns=cols)\n",
    "X_test = pd.DataFrame(X_test, columns=cols)\n",
    "X_val = pd.DataFrame(X_val, columns=cols)\n",
    "X_validators = pd.DataFrame(X_validators, columns=cols)\n",
    "\n",
    "enc = OneHotEncoder(handle_unknown='ignore')\n",
    "enc.fit(y_train.to_frame())\n",
    "y_encoded = pd.DataFrame(enc.transform(y_train.to_frame()).toarray(),columns=enc.get_feature_names_out(['Class']))\n",
    "y_val_encoded = pd.DataFrame(enc.transform(y_val.to_frame()).toarray(),columns=enc.get_feature_names_out(['Class']))\n",
    "y_test_encoded = pd.DataFrame(enc.transform(y_test.to_frame()).toarray(),columns=enc.get_feature_names_out(['Class']))\n",
    "y_validators_encoded = pd.DataFrame(enc.transform(y_validators.to_frame()).toarray(),columns=enc.get_feature_names_out(['Class']))\n",
    "y_encoded"
   ],
   "metadata": {
    "collapsed": false,
    "ExecuteTime": {
     "end_time": "2024-03-23T18:04:02.503899Z",
     "start_time": "2024-03-23T18:04:02.482202Z"
    }
   },
   "id": "8c59aa685ba519f3"
  },
  {
   "cell_type": "code",
   "execution_count": 20,
   "outputs": [
    {
     "name": "stdout",
     "output_type": "stream",
     "text": [
      "Report:\n",
      "               precision    recall  f1-score   support\n",
      "\n",
      "           0    0.99036   0.99564   0.99299      2064\n",
      "           1    0.95735   0.90991   0.93303       222\n",
      "\n",
      "    accuracy                        0.98731      2286\n",
      "   macro avg    0.97385   0.95277   0.96301      2286\n",
      "weighted avg    0.98716   0.98731   0.98717      2286\n",
      "\n",
      "NA ZBIORZE WALIDATORÓW:\n",
      "Report:\n",
      "               precision    recall  f1-score   support\n",
      "\n",
      "         0.0    0.98670   0.99472   0.99070      2462\n",
      "         1.0    0.94606   0.87356   0.90837       261\n",
      "\n",
      "    accuracy                        0.98311      2723\n",
      "   macro avg    0.96638   0.93414   0.94953      2723\n",
      "weighted avg    0.98281   0.98311   0.98280      2723\n"
     ]
    }
   ],
   "source": [
    "y_train_d = y_train.map(lambda x: 1 if x == 'BARBUNYA' else 0)\n",
    "y_val_d = y_val.map(lambda x: 1 if x == 'BARBUNYA' else 0)\n",
    "y_test_d = y_test.map(lambda x: 1 if x == 'BARBUNYA' else 0)\n",
    "\n",
    "clf_d = RandomForestClassifier(n_estimators=36, max_depth=10, random_state=42)\n",
    "clf_d.fit(X_train, y_train_d)\n",
    "y_val_pred = clf_d.predict(X_val)\n",
    "\n",
    "report = classification_report(y_val_d, y_val_pred, digits=5)\n",
    "print(\"Report:\\n\", report)\n",
    "\n",
    "print(\"NA ZBIORZE WALIDATORÓW:\")\n",
    "y_validators_pred = clf_d.predict(X_validators)\n",
    "report = classification_report(y_validators_encoded['Class_BARBUNYA'], y_validators_pred, digits=5)\n",
    "print(\"Report:\\n\", report)\n"
   ],
   "metadata": {
    "collapsed": false,
    "ExecuteTime": {
     "end_time": "2024-03-23T18:06:03.780559Z",
     "start_time": "2024-03-23T18:06:03.390886Z"
    }
   },
   "id": "9ee785536f337065"
  },
  {
   "cell_type": "markdown",
   "source": [
    "Dobrze wam idzie, na zbiorze walidatorów macie super wyniki!!!"
   ],
   "metadata": {
    "collapsed": false
   },
   "id": "acac98a2b7426a0"
  },
  {
   "cell_type": "code",
   "execution_count": 21,
   "outputs": [
    {
     "name": "stdout",
     "output_type": "stream",
     "text": [
      "Report:\n",
      "               precision    recall  f1-score   support\n",
      "\n",
      "           0    0.98987   0.99419   0.99202      2064\n",
      "           1    0.94366   0.90541   0.92414       222\n",
      "\n",
      "    accuracy                        0.98556      2286\n",
      "   macro avg    0.96677   0.94980   0.95808      2286\n",
      "weighted avg    0.98538   0.98556   0.98543      2286\n"
     ]
    }
   ],
   "source": [
    "# import ADA Boost Classifier\n",
    "from sklearn.ensemble import AdaBoostClassifier\n",
    "\n",
    "# Create an AdaBoost Classifier\n",
    "clf = AdaBoostClassifier(n_estimators=100, random_state=42)\n",
    "\n",
    "# Train the model using the training sets\n",
    "clf.fit(X_train, y_train_d)\n",
    "\n",
    "# Predict the response for test dataset\n",
    "y_val_pred = clf.predict(X_val)\n",
    "\n",
    "# Model Accuracy, how often is the classifier correct?\n",
    "report = classification_report(y_val_d, y_val_pred, digits=5)\n",
    "print(\"Report:\\n\", report)\n"
   ],
   "metadata": {
    "collapsed": false,
    "ExecuteTime": {
     "end_time": "2024-03-23T18:09:17.112432Z",
     "start_time": "2024-03-23T18:09:15.864668Z"
    }
   },
   "id": "a75714dbb02f6cde"
  },
  {
   "cell_type": "markdown",
   "source": [
    "No generalnie macie już koniec projektu, ale dostaliście też łatwy dataset."
   ],
   "metadata": {
    "collapsed": false
   },
   "id": "b84e469a77c17891"
  },
  {
   "cell_type": "markdown",
   "source": [
    "Ja bym uważał z modelami drzewiastymi, bo one są bardzo podatne na overfitting."
   ],
   "metadata": {
    "collapsed": false
   },
   "id": "2e110dc00c98c1e6"
  }
 ],
 "metadata": {
  "kernelspec": {
   "display_name": "Python 3",
   "language": "python",
   "name": "python3"
  },
  "language_info": {
   "codemirror_mode": {
    "name": "ipython",
    "version": 2
   },
   "file_extension": ".py",
   "mimetype": "text/x-python",
   "name": "python",
   "nbconvert_exporter": "python",
   "pygments_lexer": "ipython2",
   "version": "2.7.6"
  }
 },
 "nbformat": 4,
 "nbformat_minor": 5
}
