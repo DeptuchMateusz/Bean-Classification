{
 "cells": [
  {
   "cell_type": "code",
   "execution_count": 2,
   "outputs": [],
   "source": [
    "import pandas as pd\n",
    "import numpy as np\n",
    "import sklearn\n",
    "import seaborn as sns\n",
    "import matplotlib.pyplot as plt\n",
    "import warnings\n",
    "import plotly.express as px\n",
    "from sklearn.svm import SVC\n",
    "from sklearn.model_selection import train_test_split\n",
    "from sklearn.preprocessing import OneHotEncoder\n",
    "from sklearn.metrics import confusion_matrix\n",
    "from sklearn.preprocessing import MinMaxScaler\n",
    "from sklearn.ensemble import RandomForestClassifier\n",
    "from sklearn.metrics import classification_report\n",
    "from sklearn.metrics import accuracy_score\n",
    "from sklearn.metrics import precision_score, recall_score\n",
    "from sklearn.linear_model import LogisticRegression\n",
    "from sklearn.tree import DecisionTreeClassifier\n",
    "from sklearn.model_selection import cross_val_score\n",
    "from sklearn.ensemble import AdaBoostClassifier\n",
    "from sklearn.naive_bayes import GaussianNB\n",
    "\n",
    "from sklearn.neighbors import KNeighborsClassifier\n",
    "\n",
    "\n",
    "\n",
    "from sklearn.model_selection import RandomizedSearchCV\n",
    "warnings.filterwarnings('ignore')"
   ],
   "metadata": {
    "collapsed": false,
    "ExecuteTime": {
     "end_time": "2024-04-21T18:19:53.722658Z",
     "start_time": "2024-04-21T18:19:53.440027Z"
    }
   },
   "id": "58bd9b9a6374e0b5"
  },
  {
   "cell_type": "code",
   "execution_count": 3,
   "id": "initial_id",
   "metadata": {
    "collapsed": true,
    "ExecuteTime": {
     "end_time": "2024-04-21T18:19:54.927993Z",
     "start_time": "2024-04-21T18:19:54.839541Z"
    }
   },
   "outputs": [],
   "source": [
    "data = pd.read_csv('../../Data/our_data.csv')\n",
    "X = data.drop('Class', axis=1)\n",
    "y = data['Class']\n",
    "\n",
    "df_for_validators = pd.read_csv('../../Data/validator_data.csv')\n",
    "X_for_validators = df_for_validators.drop('Class', axis=1)\n",
    "y_for_validators = df_for_validators['Class']\n",
    "\n",
    "X_train, X_val, y_train, y_val = train_test_split(\n",
    "    X, y, stratify=y, test_size=0.3, random_state=42\n",
    ")\n",
    "X_val, X_test, y_val, y_test = train_test_split(\n",
    "    X_val, y_val, stratify=y_val, test_size=0.3, random_state=42\n",
    ")\n",
    "\n",
    "X_train = X_train.drop(['Compactness','EquivDiameter', 'Area'], axis=1)\n",
    "X_val = X_val.drop(['Compactness','EquivDiameter','Area'], axis=1)\n",
    "X_test = X_test.drop(['Compactness','EquivDiameter','Area'], axis=1)\n",
    "X_for_validators = X_for_validators.drop(['Compactness','EquivDiameter','Area'], axis=1)\n",
    "cols = X_train.columns\n",
    "\n",
    "\n",
    "\n",
    "\n",
    "scaling = sklearn.preprocessing.PowerTransformer(method='box-cox')\n",
    "X_train = scaling.fit_transform(X_train)\n",
    "X_test = scaling.transform(X_test)\n",
    "X_val = scaling.transform(X_val)\n",
    "X_for_validators = scaling.transform(X_for_validators)\n",
    "\n",
    "X_train = pd.DataFrame(X_train, columns=cols)\n",
    "X_test = pd.DataFrame(X_test, columns=cols)\n",
    "X_val = pd.DataFrame(X_val, columns=cols)\n",
    "X_for_validators = pd.DataFrame(X_for_validators, columns=cols)\n",
    "\n",
    "enc = OneHotEncoder(handle_unknown='ignore')\n",
    "enc.fit(y_train.to_frame())\n",
    "y_encoded = pd.DataFrame(enc.transform(y_train.to_frame()).toarray(),columns=enc.get_feature_names_out(['Class']))\n",
    "y_val_encoded = pd.DataFrame(enc.transform(y_val.to_frame()).toarray(),columns=enc.get_feature_names_out(['Class']))\n",
    "y_test_encoded = pd.DataFrame(enc.transform(y_test.to_frame()).toarray(),columns=enc.get_feature_names_out(['Class']))\n",
    "y_for_validators_encoded = pd.DataFrame(enc.transform(y_for_validators.to_frame()).toarray(),columns=enc.get_feature_names_out(['Class']))\n",
    "\n",
    "#standard encoding 0,1,2,...\n",
    "labelencoder = sklearn.preprocessing.LabelEncoder()\n",
    "y_encoded2 = pd.DataFrame(labelencoder.fit_transform(y_train))\n",
    "y_val_encoded2 = pd.DataFrame(labelencoder.fit_transform(y_val))\n",
    "y_test_encoded2 = pd.DataFrame( labelencoder.fit_transform(y_test))\n",
    "y_for_validators_encoded2 = pd.DataFrame(labelencoder.fit_transform(y_for_validators))\n",
    "\n",
    "\n",
    "class_names = ['BARBUNYA', 'BOMBAY', 'CALI', 'DERMASON', 'HOROZ', 'SEKER', 'SIRA']"
   ]
  },
  {
   "cell_type": "code",
   "execution_count": 4,
   "outputs": [
    {
     "data": {
      "text/plain": "      Class_BARBUNYA  Class_BOMBAY  Class_CALI  Class_DERMASON  Class_HOROZ  \\\n0                0.0           0.0         0.0             0.0          0.0   \n1                0.0           0.0         0.0             0.0          0.0   \n2                0.0           0.0         0.0             1.0          0.0   \n3                0.0           0.0         0.0             0.0          1.0   \n4                0.0           0.0         0.0             0.0          1.0   \n...              ...           ...         ...             ...          ...   \n7616             0.0           0.0         0.0             0.0          0.0   \n7617             0.0           0.0         0.0             0.0          0.0   \n7618             1.0           0.0         0.0             0.0          0.0   \n7619             0.0           0.0         0.0             1.0          0.0   \n7620             0.0           0.0         0.0             1.0          0.0   \n\n      Class_SEKER  Class_SIRA  \n0             0.0         1.0  \n1             1.0         0.0  \n2             0.0         0.0  \n3             0.0         0.0  \n4             0.0         0.0  \n...           ...         ...  \n7616          0.0         1.0  \n7617          1.0         0.0  \n7618          0.0         0.0  \n7619          0.0         0.0  \n7620          0.0         0.0  \n\n[7621 rows x 7 columns]",
      "text/html": "<div>\n<style scoped>\n    .dataframe tbody tr th:only-of-type {\n        vertical-align: middle;\n    }\n\n    .dataframe tbody tr th {\n        vertical-align: top;\n    }\n\n    .dataframe thead th {\n        text-align: right;\n    }\n</style>\n<table border=\"1\" class=\"dataframe\">\n  <thead>\n    <tr style=\"text-align: right;\">\n      <th></th>\n      <th>Class_BARBUNYA</th>\n      <th>Class_BOMBAY</th>\n      <th>Class_CALI</th>\n      <th>Class_DERMASON</th>\n      <th>Class_HOROZ</th>\n      <th>Class_SEKER</th>\n      <th>Class_SIRA</th>\n    </tr>\n  </thead>\n  <tbody>\n    <tr>\n      <th>0</th>\n      <td>0.0</td>\n      <td>0.0</td>\n      <td>0.0</td>\n      <td>0.0</td>\n      <td>0.0</td>\n      <td>0.0</td>\n      <td>1.0</td>\n    </tr>\n    <tr>\n      <th>1</th>\n      <td>0.0</td>\n      <td>0.0</td>\n      <td>0.0</td>\n      <td>0.0</td>\n      <td>0.0</td>\n      <td>1.0</td>\n      <td>0.0</td>\n    </tr>\n    <tr>\n      <th>2</th>\n      <td>0.0</td>\n      <td>0.0</td>\n      <td>0.0</td>\n      <td>1.0</td>\n      <td>0.0</td>\n      <td>0.0</td>\n      <td>0.0</td>\n    </tr>\n    <tr>\n      <th>3</th>\n      <td>0.0</td>\n      <td>0.0</td>\n      <td>0.0</td>\n      <td>0.0</td>\n      <td>1.0</td>\n      <td>0.0</td>\n      <td>0.0</td>\n    </tr>\n    <tr>\n      <th>4</th>\n      <td>0.0</td>\n      <td>0.0</td>\n      <td>0.0</td>\n      <td>0.0</td>\n      <td>1.0</td>\n      <td>0.0</td>\n      <td>0.0</td>\n    </tr>\n    <tr>\n      <th>...</th>\n      <td>...</td>\n      <td>...</td>\n      <td>...</td>\n      <td>...</td>\n      <td>...</td>\n      <td>...</td>\n      <td>...</td>\n    </tr>\n    <tr>\n      <th>7616</th>\n      <td>0.0</td>\n      <td>0.0</td>\n      <td>0.0</td>\n      <td>0.0</td>\n      <td>0.0</td>\n      <td>0.0</td>\n      <td>1.0</td>\n    </tr>\n    <tr>\n      <th>7617</th>\n      <td>0.0</td>\n      <td>0.0</td>\n      <td>0.0</td>\n      <td>0.0</td>\n      <td>0.0</td>\n      <td>1.0</td>\n      <td>0.0</td>\n    </tr>\n    <tr>\n      <th>7618</th>\n      <td>1.0</td>\n      <td>0.0</td>\n      <td>0.0</td>\n      <td>0.0</td>\n      <td>0.0</td>\n      <td>0.0</td>\n      <td>0.0</td>\n    </tr>\n    <tr>\n      <th>7619</th>\n      <td>0.0</td>\n      <td>0.0</td>\n      <td>0.0</td>\n      <td>1.0</td>\n      <td>0.0</td>\n      <td>0.0</td>\n      <td>0.0</td>\n    </tr>\n    <tr>\n      <th>7620</th>\n      <td>0.0</td>\n      <td>0.0</td>\n      <td>0.0</td>\n      <td>1.0</td>\n      <td>0.0</td>\n      <td>0.0</td>\n      <td>0.0</td>\n    </tr>\n  </tbody>\n</table>\n<p>7621 rows × 7 columns</p>\n</div>"
     },
     "execution_count": 4,
     "metadata": {},
     "output_type": "execute_result"
    }
   ],
   "source": [
    "y_encoded"
   ],
   "metadata": {
    "collapsed": false,
    "ExecuteTime": {
     "end_time": "2024-04-21T18:19:55.653434Z",
     "start_time": "2024-04-21T18:19:55.639409Z"
    }
   },
   "id": "dc64d5efb6d93095"
  },
  {
   "cell_type": "code",
   "execution_count": 5,
   "outputs": [
    {
     "data": {
      "text/plain": "      0\n0     6\n1     5\n2     3\n3     4\n4     4\n...  ..\n7616  6\n7617  5\n7618  0\n7619  3\n7620  3\n\n[7621 rows x 1 columns]",
      "text/html": "<div>\n<style scoped>\n    .dataframe tbody tr th:only-of-type {\n        vertical-align: middle;\n    }\n\n    .dataframe tbody tr th {\n        vertical-align: top;\n    }\n\n    .dataframe thead th {\n        text-align: right;\n    }\n</style>\n<table border=\"1\" class=\"dataframe\">\n  <thead>\n    <tr style=\"text-align: right;\">\n      <th></th>\n      <th>0</th>\n    </tr>\n  </thead>\n  <tbody>\n    <tr>\n      <th>0</th>\n      <td>6</td>\n    </tr>\n    <tr>\n      <th>1</th>\n      <td>5</td>\n    </tr>\n    <tr>\n      <th>2</th>\n      <td>3</td>\n    </tr>\n    <tr>\n      <th>3</th>\n      <td>4</td>\n    </tr>\n    <tr>\n      <th>4</th>\n      <td>4</td>\n    </tr>\n    <tr>\n      <th>...</th>\n      <td>...</td>\n    </tr>\n    <tr>\n      <th>7616</th>\n      <td>6</td>\n    </tr>\n    <tr>\n      <th>7617</th>\n      <td>5</td>\n    </tr>\n    <tr>\n      <th>7618</th>\n      <td>0</td>\n    </tr>\n    <tr>\n      <th>7619</th>\n      <td>3</td>\n    </tr>\n    <tr>\n      <th>7620</th>\n      <td>3</td>\n    </tr>\n  </tbody>\n</table>\n<p>7621 rows × 1 columns</p>\n</div>"
     },
     "execution_count": 5,
     "metadata": {},
     "output_type": "execute_result"
    }
   ],
   "source": [
    "y_encoded2"
   ],
   "metadata": {
    "collapsed": false,
    "ExecuteTime": {
     "end_time": "2024-04-21T18:19:56.103061Z",
     "start_time": "2024-04-21T18:19:56.098586Z"
    }
   },
   "id": "9e2a7401f726de9b"
  },
  {
   "cell_type": "code",
   "execution_count": 7,
   "outputs": [
    {
     "name": "stdout",
     "output_type": "stream",
     "text": [
      "Logistic Regression\n",
      "              precision    recall  f1-score   support\n",
      "\n",
      "    BARBUNYA       0.93      0.92      0.93       222\n",
      "      BOMBAY       1.00      1.00      1.00        85\n",
      "        CALI       0.97      0.91      0.94       276\n",
      "    DERMASON       0.93      0.92      0.93       604\n",
      "       HOROZ       0.92      0.95      0.94       319\n",
      "       SEKER       0.95      0.96      0.96       339\n",
      "        SIRA       0.86      0.88      0.87       441\n",
      "\n",
      "    accuracy                           0.93      2286\n",
      "   macro avg       0.94      0.94      0.94      2286\n",
      "weighted avg       0.93      0.93      0.93      2286\n",
      "SVM\n",
      "              precision    recall  f1-score   support\n",
      "\n",
      "    BARBUNYA       0.91      0.92      0.92       222\n",
      "      BOMBAY       1.00      1.00      1.00        85\n",
      "        CALI       0.93      0.91      0.92       276\n",
      "    DERMASON       0.89      0.94      0.91       604\n",
      "       HOROZ       0.94      0.93      0.94       319\n",
      "       SEKER       0.97      0.92      0.95       339\n",
      "        SIRA       0.87      0.85      0.86       441\n",
      "\n",
      "    accuracy                           0.92      2286\n",
      "   macro avg       0.93      0.93      0.93      2286\n",
      "weighted avg       0.92      0.92      0.92      2286\n",
      "Random Forest\n",
      "              precision    recall  f1-score   support\n",
      "\n",
      "    BARBUNYA       0.94      0.92      0.93       222\n",
      "      BOMBAY       1.00      1.00      1.00        85\n",
      "        CALI       0.95      0.91      0.93       276\n",
      "    DERMASON       0.91      0.93      0.92       604\n",
      "       HOROZ       0.94      0.96      0.95       319\n",
      "       SEKER       0.96      0.96      0.96       339\n",
      "        SIRA       0.87      0.87      0.87       441\n",
      "\n",
      "    accuracy                           0.93      2286\n",
      "   macro avg       0.94      0.94      0.94      2286\n",
      "weighted avg       0.93      0.93      0.93      2286\n",
      "\n",
      "Decision Tree\n",
      "              precision    recall  f1-score   support\n",
      "\n",
      "    BARBUNYA       0.86      0.89      0.87       222\n",
      "      BOMBAY       1.00      1.00      1.00        85\n",
      "        CALI       0.92      0.87      0.90       276\n",
      "    DERMASON       0.88      0.92      0.90       604\n",
      "       HOROZ       0.92      0.94      0.93       319\n",
      "       SEKER       0.95      0.91      0.93       339\n",
      "        SIRA       0.84      0.82      0.83       441\n",
      "\n",
      "    accuracy                           0.90      2286\n",
      "   macro avg       0.91      0.91      0.91      2286\n",
      "weighted avg       0.90      0.90      0.90      2286\n"
     ]
    }
   ],
   "source": [
    "# create list of model with random state 42\n",
    "# create logistic regression with l1 penalty and c=100\n",
    "# create svm with rbf kernel and c=1000 and gamma=0.1\n",
    "#create random forest with n_estimators=200 and max_depth=25, min_samples_split=5, criterion='log_loss'\n",
    "# create decision tree with min_samples_split=10, criterion='entropy', max_depth=20\n",
    "models=[LogisticRegression(penalty='l2', C=100, random_state=42),\n",
    "        SVC(kernel='rbf', C=1000, gamma=0.1, random_state=42),\n",
    "        RandomForestClassifier(n_estimators=200, max_depth=25, min_samples_split=5, criterion='gini', random_state=42),\n",
    "        DecisionTreeClassifier(min_samples_split=10, criterion='entropy', max_depth=20, random_state=42)]\n",
    "\n",
    "names=['Logistic Regression', 'SVM', 'Random Forest', 'Decision Tree']\n",
    "\n",
    "for model, name in zip(models, names):\n",
    "    model.fit(X_train, y_encoded2)\n",
    "    y_pred = model.predict(X_val)\n",
    "    print(name)\n",
    "    print(classification_report(y_val_encoded2, y_pred,target_names=['BARBUNYA', 'BOMBAY', 'CALI', 'DERMASON', 'HOROZ', 'SEKER', 'SIRA']))\n",
    "\n"
   ],
   "metadata": {
    "collapsed": false,
    "ExecuteTime": {
     "end_time": "2024-04-21T18:20:26.053466Z",
     "start_time": "2024-04-21T18:20:22.476199Z"
    }
   },
   "id": "66f9b75bb361658b"
  },
  {
   "cell_type": "code",
   "execution_count": null,
   "outputs": [],
   "source": [],
   "metadata": {
    "collapsed": false
   },
   "id": "870432fa7f5c8644"
  }
 ],
 "metadata": {
  "kernelspec": {
   "display_name": "Python 3",
   "language": "python",
   "name": "python3"
  },
  "language_info": {
   "codemirror_mode": {
    "name": "ipython",
    "version": 2
   },
   "file_extension": ".py",
   "mimetype": "text/x-python",
   "name": "python",
   "nbconvert_exporter": "python",
   "pygments_lexer": "ipython2",
   "version": "2.7.6"
  }
 },
 "nbformat": 4,
 "nbformat_minor": 5
}
